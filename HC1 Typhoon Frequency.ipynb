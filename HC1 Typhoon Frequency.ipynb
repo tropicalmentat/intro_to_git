{
 "cells": [
  {
   "cell_type": "markdown",
   "id": "2d6556d9",
   "metadata": {},
   "source": [
    "# Geoprocessing for Typhoon Frequency"
   ]
  },
  {
   "cell_type": "code",
   "execution_count": null,
   "id": "7cbd013d",
   "metadata": {
    "scrolled": true
   },
   "outputs": [],
   "source": [
    "# Search engines are your friends!\n",
    "# Use them to look up the technical documentation\n",
    "# of each functionality imported here\n",
    "from geopandas import read_file, GeoDataFrame, sjoin\n",
    "from pandas import concat"
   ]
  },
  {
   "cell_type": "markdown",
   "id": "665f2e10",
   "metadata": {},
   "source": [
    "### Data Paths"
   ]
  },
  {
   "cell_type": "code",
   "execution_count": null,
   "id": "86e6b1f8",
   "metadata": {},
   "outputs": [],
   "source": [
    "tp_fp = 'Luzon_TCTLines_IBTrACS_1980-2020.shp'\n",
    "grid_fp = 'Luzon_10KmGrid_MO-GED-2022.shp'\n",
    "\n",
    "tp_df = read_file(tp_fp)\n",
    "grid_df = read_file(grid_fp)"
   ]
  },
  {
   "cell_type": "markdown",
   "id": "0ad35076",
   "metadata": {},
   "source": [
    "### Plot Datasets\n",
    "- Documentation on plotting datasets can be accessed [here](https://geopandas.org/en/stable/docs/user_guide/mapping.html)."
   ]
  },
  {
   "cell_type": "code",
   "execution_count": null,
   "id": "535d8186",
   "metadata": {},
   "outputs": [],
   "source": [
    "base = grid_df.plot(color='red',zorder=2)\n",
    "tp_df.plot(ax=base, zorder=1)"
   ]
  },
  {
   "cell_type": "markdown",
   "id": "404cd300",
   "metadata": {},
   "source": [
    "### Dissolve by SID and Buffer 100km"
   ]
  },
  {
   "cell_type": "code",
   "execution_count": null,
   "id": "e11cfc72",
   "metadata": {},
   "outputs": [],
   "source": [
    "dissolved = tp_df.dissolve(by='SID')\n",
    "\n",
    "buffered = dissolved.buffer(distance=100000) # meters"
   ]
  },
  {
   "cell_type": "code",
   "execution_count": null,
   "id": "d32d40b9",
   "metadata": {},
   "outputs": [],
   "source": [
    "# rename so that column name is 'buffered'\n",
    "# when concatenated with the dissolved dataset\n",
    "buffered.rename('buffered',inplace=True) "
   ]
  },
  {
   "cell_type": "markdown",
   "id": "5d76ed0d",
   "metadata": {},
   "source": [
    "### Spatial Join and Count per Grid"
   ]
  },
  {
   "cell_type": "code",
   "execution_count": null,
   "id": "e5da006c",
   "metadata": {},
   "outputs": [],
   "source": [
    "# preparatory steps before joining and counting\n",
    "# we need to get the datasets into the right\n",
    "# structure\n",
    "concatenated = concat([dissolved,buffered],axis=1)\n",
    "concatenated.set_geometry('buffered',inplace=True) # So that we use the buffer geometry when doing a spatial join\n",
    "concatenated.reset_index(inplace=True) # To count the number of SIDs within each grid cell\n",
    "\n",
    "# spatial join operation\n",
    "joined = grid_df.overlay(concatenated,how='intersection',keep_geom_type=False)\n",
    "\n",
    "# count per grid operation\n",
    "counted = joined.groupby('id').SID.count()\n",
    "\n",
    "counted.rename('counted',inplace=True)\n",
    "\n",
    "count_per_grid = grid_df.merge(counted, on='id')"
   ]
  },
  {
   "cell_type": "markdown",
   "id": "8ae8969c",
   "metadata": {},
   "source": [
    "### Reclassification"
   ]
  },
  {
   "cell_type": "code",
   "execution_count": null,
   "id": "6dda357c",
   "metadata": {},
   "outputs": [],
   "source": [
    "# Define a function to evaluate\n",
    "# the count of typhoons per grid\n",
    "# and return a score\n",
    "def reclassify(counts):\n",
    "    if counts>80:\n",
    "        return 5\n",
    "    elif counts>=61 and counts<=80:\n",
    "        return 4\n",
    "    elif counts>=41 and counts<=60:\n",
    "        return 3\n",
    "    elif counts>=18 and counts<=40:\n",
    "        return 2\n",
    "    elif counts>=0 and counts<=17:\n",
    "        return 1"
   ]
  },
  {
   "cell_type": "code",
   "execution_count": null,
   "id": "229f8acf",
   "metadata": {},
   "outputs": [],
   "source": [
    "# The .apply function does the 'looping'\n",
    "# on each element of the counted column\n",
    "# and applies the 'reclassify' function\n",
    "# per element\n",
    "reclassified = count_per_grid.counted.apply(func=reclassify)"
   ]
  },
  {
   "cell_type": "code",
   "execution_count": null,
   "id": "1fd2fd06",
   "metadata": {
    "scrolled": false
   },
   "outputs": [],
   "source": [
    "# restructure for convenience\n",
    "reclassified.rename('reclassify',inplace=True)\n",
    "\n",
    "tp_freq = concat([count_per_grid,reclassified],axis=1)"
   ]
  },
  {
   "cell_type": "code",
   "execution_count": null,
   "id": "f22ff517",
   "metadata": {},
   "outputs": [],
   "source": [
    "# saves your selected dataset to\n",
    "# a shp file\n",
    "tp_freq.to_file('tp_freq.shp')"
   ]
  }
 ],
 "metadata": {
  "kernelspec": {
   "display_name": "Python 3 (ipykernel)",
   "language": "python",
   "name": "python3"
  },
  "language_info": {
   "codemirror_mode": {
    "name": "ipython",
    "version": 3
   },
   "file_extension": ".py",
   "mimetype": "text/x-python",
   "name": "python",
   "nbconvert_exporter": "python",
   "pygments_lexer": "ipython3",
   "version": "3.10.9"
  }
 },
 "nbformat": 4,
 "nbformat_minor": 5
}
